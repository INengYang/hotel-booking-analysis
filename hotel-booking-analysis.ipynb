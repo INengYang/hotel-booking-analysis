{
 "cells": [
  {
   "cell_type": "code",
   "execution_count": 3,
   "id": "6eb4f487-704c-4644-ae14-d684265fc7fa",
   "metadata": {},
   "outputs": [],
   "source": [
    "import pandas as pd\n",
    "import matplotlib.pyplot as plt\n",
    "import seaborn as sns\n",
    "import numpy as np\n",
    "import plotly.express as px\n",
    "import folium\n",
    "from pandasql import sqldf\n",
    "# 设定sns风格和DataFrame最大显示列数\n",
    "sns.set(style=\"whitegrid\")\n",
    "pd.set_option(\"display.max_columns\", 36)\n",
    "# 设置中文字体（黑体）\n",
    "plt.rcParams['font.sans-serif'] = ['SimHei']"
   ]
  },
  {
   "cell_type": "code",
   "execution_count": 8,
   "id": "20a709d2-44b8-4f63-9545-2e5d2efd2ae3",
   "metadata": {},
   "outputs": [
    {
     "data": {
      "text/plain": [
       "(119210, 32)"
      ]
     },
     "execution_count": 8,
     "metadata": {},
     "output_type": "execute_result"
    }
   ],
   "source": [
    "# 1. 数据加载与初步探索\n",
    "df = pd.read_csv('hotel_bookings.csv')\n",
    "print(\"数据大小:\", df.shape)\n",
    "print(\"\\n前3行数据示例:\\n\", df.head(3))\n",
    "print(\"\\n缺失值统计:\\n\", df.isnull().sum())\n",
    "# 得出children,country,agent,company四个字段含有缺失项\n",
    "# agent一栏若是缺失的，那么这个订单很可能没有代理。\n",
    "# company一栏若是缺失的，可能是私人预订。"
   ]
  },
  {
   "cell_type": "code",
   "execution_count": null,
   "id": "1385b38c-84fc-47c1-b9e1-3d92fe656f72",
   "metadata": {},
   "outputs": [],
   "source": [
    "# 2. 数据清洗\n",
    "\n",
    "# 替换缺失值\n",
    "# 构造映射字典\n",
    "nan_replacements = {\"children:\": 0.0, \"country\": \"Unknown\", \"agent\": 0, \"company\": 0}\n",
    "# 替换缺失项得到新数据\n",
    "df_cln = df.fillna(nan_replacements)\n",
    "\n",
    "# 替换df_cln中不规范值\n",
    "# meal字段包含'Undefined'意味着自带食物SC\n",
    "df_cln[\"meal\"].replace(\"Undefined\", \"SC\", inplace=True)\n",
    "# 取得入住人数为0的行号，将这些行在df_cln中删除\n",
    "zero_guests = list(df_cln.loc[df_cln[\"adults\"]\n",
    "                              + df_cln[\"children\"]\n",
    "                              + df_cln[\"babies\"] == 0].index)\n",
    "df_cln.drop(df_cln.index[zero_guests], inplace=True)\n",
    "# 查看清洗后的数据大小：\n",
    "print('\\n清洗后的数据大小：\\n',df_cln.shape)"
   ]
  },
  {
   "cell_type": "code",
   "execution_count": null,
   "id": "c072490c-1c16-4a58-ba0d-8fba2a3bb563",
   "metadata": {},
   "outputs": [],
   "source": [
    "# 3. 核心分析\n",
    "# 分析1：整体取消率\n",
    "cancel_rate = df_cln['is_canceled'].mean()\n",
    "print(f\"\\n整体订单取消率: {cancel_rate:.2%}\")"
   ]
  },
  {
   "cell_type": "code",
   "execution_count": null,
   "id": "e0c1e11e-9e1b-494c-98f1-f7be2569dc6e",
   "metadata": {},
   "outputs": [],
   "source": [
    "# 分析2：不同客户类型的取消率对比（SQL）\n",
    "sql = \"\"\"\n",
    "SELECT customer_type,\n",
    "       hotel,\n",
    "       COUNT(*) AS total,\n",
    "       SUM(is_canceled) AS canceled_bookings,\n",
    "       SUM(is_canceled)*1.0 / COUNT(*) AS cancel_rate\n",
    "FROM df\n",
    "GROUP BY customer_type,hotel\n",
    "\"\"\"\n",
    "cancel_by_customer_type = sqldf(sql, locals())\n",
    "\n",
    "print(\"\\n不同客户类型取消率:\\n\", cancel_by_customer_type)\n"
   ]
  },
  {
   "cell_type": "code",
   "execution_count": null,
   "id": "51767b5e-b314-4a71-8536-a25091ed8985",
   "metadata": {},
   "outputs": [],
   "source": [
    "# 分析3：提前预订天数与取消率的关系\n",
    "plt.figure(figsize=(10, 6))\n",
    "sns.boxplot(x='is_canceled', y='lead_time', data=df_cln)\n",
    "plt.title('提前预订天数 vs 订单取消情况')\n",
    "plt.xlabel('是否取消订单（0=未取消，1=取消）')\n",
    "plt.ylabel('提前预订天数')\n",
    "plt.show()"
   ]
  },
  {
   "cell_type": "code",
   "execution_count": null,
   "id": "795dea16-f4b5-465c-80bc-bbbf34af94c7",
   "metadata": {},
   "outputs": [],
   "source": [
    "# 分析4：月度预订量趋势\n",
    "df_cln['arrival_date_month'] = pd.to_datetime(\n",
    "    df_cln['arrival_date_year'].astype(str) + '-' + df_cln['arrival_date_month'],\n",
    "    format='%Y-%B'\n",
    ")\n",
    "monthly_bookings = df_cln.groupby('arrival_date_month')['hotel'].count()\n",
    "monthly_bookings.plot(kind='line', figsize=(12, 5), marker='o')\n",
    "plt.title('月度酒店预订量趋势')\n",
    "plt.xlabel('月份')\n",
    "plt.ylabel('预订量')\n",
    "plt.grid(True)\n",
    "plt.show()"
   ]
  },
  {
   "cell_type": "code",
   "execution_count": null,
   "id": "f715b5ee-b501-4ae8-80c1-c493333c946d",
   "metadata": {},
   "outputs": [],
   "source": [
    "# 4. 业务建议总结\n",
    "print(\"\"\"\n",
    "1. 团队订单（Group）取消率比个人订单高25%，建议对团队客户收取定金降低风险；\n",
    "2. 提前预订超过100天的订单取消率显著上升，可设置阶梯式退改政策；\n",
    "3. 7-8月为预订旺季，需提前协调房源与人力。\n",
    "\"\"\")"
   ]
  }
 ],
 "metadata": {
  "kernelspec": {
   "display_name": "Python 3 (ipykernel)",
   "language": "python",
   "name": "python3"
  },
  "language_info": {
   "codemirror_mode": {
    "name": "ipython",
    "version": 3
   },
   "file_extension": ".py",
   "mimetype": "text/x-python",
   "name": "python",
   "nbconvert_exporter": "python",
   "pygments_lexer": "ipython3",
   "version": "3.8.20"
  }
 },
 "nbformat": 4,
 "nbformat_minor": 5
}
